{
 "cells": [
  {
   "cell_type": "markdown",
   "metadata": {},
   "source": [
    "Setup"
   ]
  },
  {
   "cell_type": "code",
   "execution_count": 1,
   "metadata": {},
   "outputs": [],
   "source": [
    "import os\n",
    "import pandas as pd\n",
    "from rich.console import Console\n",
    "from rich.logging import RichHandler\n",
    "from rich import pretty\n",
    "import logging\n",
    "import warnings\n",
    "import subprocess\n",
    "import hvac\n",
    "from cryptography.fernet import Fernet\n",
    "import base64\n",
    "\n",
    "DATAFILE=\"/usr/src/working/data/Questions.xlsx\"\n",
    "ENCRYPTEDFILE=\"/usr/src/working/data/Questions_encrypted.xlsx\"\n",
    "KEYFILE=\"/usr/src/working/data/Questions.key\"\n",
    "\n",
    "# Configure logging\n",
    "logging.disable(logging.WARNING) # disable warnings in the logger\n",
    "warnings.filterwarnings(\"ignore\") # disable warnings in warnings\n",
    "\n",
    "logging.basicConfig(level=logging.INFO, format=\"%(message)s\",handlers=[RichHandler()])\n",
    "console = Console()"
   ]
  },
  {
   "cell_type": "markdown",
   "metadata": {},
   "source": [
    "Load the decrypted datafile"
   ]
  },
  {
   "cell_type": "code",
   "execution_count": 2,
   "metadata": {},
   "outputs": [
    {
     "data": {
      "text/html": [
       "<pre style=\"white-space:pre;overflow-x:auto;line-height:normal;font-family:Menlo,'DejaVu Sans Mono',consolas,'Courier New',monospace\"><span style=\"color: #800080; text-decoration-color: #800080; font-weight: bold\">Loading data from </span><span style=\"color: #c0c0c0; text-decoration-color: #c0c0c0; font-weight: bold\">/usr/src/working/data/Questions.xlsx</span>\n",
       "</pre>\n"
      ],
      "text/plain": [
       "\u001b[1;35mLoading data from \u001b[0m\u001b[1;37m/usr/src/working/data/\u001b[0m\u001b[1;37mQuestions.xlsx\u001b[0m\n"
      ]
     },
     "metadata": {},
     "output_type": "display_data"
    },
    {
     "data": {
      "text/html": [
       "<div>\n",
       "<style scoped>\n",
       "    .dataframe tbody tr th:only-of-type {\n",
       "        vertical-align: middle;\n",
       "    }\n",
       "\n",
       "    .dataframe tbody tr th {\n",
       "        vertical-align: top;\n",
       "    }\n",
       "\n",
       "    .dataframe thead th {\n",
       "        text-align: right;\n",
       "    }\n",
       "</style>\n",
       "<table border=\"1\" class=\"dataframe\">\n",
       "  <thead>\n",
       "    <tr style=\"text-align: right;\">\n",
       "      <th></th>\n",
       "      <th>Question</th>\n",
       "      <th>Answer</th>\n",
       "    </tr>\n",
       "  </thead>\n",
       "  <tbody>\n",
       "    <tr>\n",
       "      <th>0</th>\n",
       "      <td>Who is Nic Jackson</td>\n",
       "      <td>Nic Jackson is a thourouly nice chap who works...</td>\n",
       "    </tr>\n",
       "    <tr>\n",
       "      <th>1</th>\n",
       "      <td>What is bear blood</td>\n",
       "      <td>Bear blood is a delicous beverage that Ivan pr...</td>\n",
       "    </tr>\n",
       "  </tbody>\n",
       "</table>\n",
       "</div>"
      ],
      "text/plain": [
       "             Question                                             Answer\n",
       "0  Who is Nic Jackson  Nic Jackson is a thourouly nice chap who works...\n",
       "1  What is bear blood  Bear blood is a delicous beverage that Ivan pr..."
      ]
     },
     "execution_count": 2,
     "metadata": {},
     "output_type": "execute_result"
    }
   ],
   "source": [
    "console.print(f\"Loading data from [white]{DATAFILE}[/white]\", style=\"bold magenta\")\n",
    "pd.read_excel(DATAFILE)"
   ]
  },
  {
   "cell_type": "markdown",
   "metadata": {},
   "source": [
    "Fetch the encryption key from Vault"
   ]
  },
  {
   "cell_type": "code",
   "execution_count": 13,
   "metadata": {},
   "outputs": [],
   "source": [
    "client = hvac.Client(\n",
    "    url=os.environ[\"VAULT_ADDR\"]\n",
    ")\n",
    "\n",
    "client.auth.userpass.login(\n",
    "    username=\"ops\",\n",
    "    password=\"password\",\n",
    ")\n",
    "\n",
    "key = Fernet.generate_key()\n",
    "\n",
    "fernet = Fernet(key)\n",
    "\n",
    "with open(DATAFILE,'rb') as file:\n",
    "    original = file.read()\n",
    "\n",
    "encrypted = fernet.encrypt(original)\n",
    "\n",
    "with open(ENCRYPTEDFILE,'wb') as encrypted_file:\n",
    "    encrypted_file.write(encrypted)\n",
    "\n",
    "\n",
    "base_key = base64.b64encode(key).decode(\"ascii\")\n",
    "\n",
    "ciphertext = client.secrets.transit.encrypt_data(\n",
    "    name=\"data\",\n",
    "    plaintext=base_key)\n",
    "\n",
    "with open(KEYFILE, 'wb') as key_file:\n",
    "    key_file.write(ciphertext['data']['ciphertext'].encode('ascii'))\n",
    "\n"
   ]
  }
 ],
 "metadata": {
  "kernelspec": {
   "display_name": ".venv",
   "language": "python",
   "name": "python3"
  },
  "language_info": {
   "codemirror_mode": {
    "name": "ipython",
    "version": 3
   },
   "file_extension": ".py",
   "mimetype": "text/x-python",
   "name": "python",
   "nbconvert_exporter": "python",
   "pygments_lexer": "ipython3",
   "version": "3.11.2"
  }
 },
 "nbformat": 4,
 "nbformat_minor": 2
}
