{
 "cells": [
  {
   "cell_type": "code",
   "execution_count": 1,
   "metadata": {},
   "outputs": [],
   "source": [
    "import os\n",
    "import pandas as pd\n",
    "from rich.console import Console\n",
    "from rich.logging import RichHandler\n",
    "from rich import pretty\n",
    "import logging\n",
    "import warnings\n",
    "import subprocess\n",
    "import hvac\n",
    "from cryptography.fernet import Fernet\n",
    "import base64\n",
    "\n",
    "DATAFILE=\"/usr/src/working/data/Questions.xlsx\"\n",
    "ENCRYPTEDFILE=\"/usr/src/working/data/Questions_encrypted.xlsx\"\n",
    "KEYFILE=\"/usr/src/working/data/Questions.key\"\n",
    "WORKINGFILE=\"/usr/src/working/data/Questions_working.xlsx\"\n",
    "\n",
    "MODELFILE=\"/usr/src/working/models/modelfile\"\n",
    "MODELCONTEXT=\"/usr/src/working/trained\"\n",
    "\n",
    "# Configure logging\n",
    "logging.disable(logging.WARNING) # disable warnings in the logger\n",
    "warnings.filterwarnings(\"ignore\") # disable warnings in warnings\n",
    "\n",
    "logging.basicConfig(level=logging.INFO, format=\"%(message)s\",handlers=[RichHandler()])\n",
    "console = Console()"
   ]
  },
  {
   "cell_type": "markdown",
   "metadata": {},
   "source": [
    "Load and decrypt the datafile"
   ]
  },
  {
   "cell_type": "code",
   "execution_count": null,
   "metadata": {},
   "outputs": [],
   "source": []
  },
  {
   "cell_type": "markdown",
   "metadata": {},
   "source": [
    "Encrypt and push the trainied model"
   ]
  },
  {
   "cell_type": "code",
   "execution_count": null,
   "metadata": {},
   "outputs": [],
   "source": [
    "client = hvac.Client(\n",
    "    url=os.environ[\"VAULT_ADDR\"]\n",
    ")\n",
    "\n",
    "client.auth.userpass.login(\n",
    "    username=\"datascience\",\n",
    "    password=\"password\",\n",
    ")\n",
    "\n",
    "subprocess.run([\n",
    "    \"kapsule\", \"build\",\n",
    "    \"--encryption-vault-addr\", os.environ[\"VAULT_ADDR\"],\n",
    "    \"--encryption-vault-auth-token\", client.token,\n",
    "    \"--encryption-vault-key\", \"llm\",\n",
    "    \"--encryption-vault-path\", \"transit\",\n",
    "    \"--file\", MODELFILE,\n",
    "    \"--tag\", \"docker.io/nicholasjackson/hug:enc\",\n",
    "    \"--username\", os.environ[\"DOCKER_USERNAME\"],\n",
    "    \"--password\", os.environ[\"DOCKER_PASSWORD\"],\n",
    "    MODELCONTEXT\n",
    "])"
   ]
  },
  {
   "cell_type": "code",
   "execution_count": null,
   "metadata": {},
   "outputs": [],
   "source": [
    "OLLAMA=\"/usr/src/working/ollama\"\n",
    "\n",
    "client.auth.userpass.login(\n",
    "    username=\"runtime\",\n",
    "    password=\"password\",\n",
    ")\n",
    "\n",
    "subprocess.run([\n",
    "    \"kapsule\", \"pull\",\n",
    "    \"--encryption-vault-addr\", os.environ[\"VAULT_ADDR\"],\n",
    "    \"--encryption-vault-auth-token\", client.token,\n",
    "    \"--encryption-vault-key\", \"llm\",\n",
    "    \"--encryption-vault-path\", \"transit\",\n",
    "    \"--format\", \"ollama\",\n",
    "    \"--output\", OLLAMA,\n",
    "    \"--username\", os.environ[\"DOCKER_USERNAME\"],\n",
    "    \"--password\", os.environ[\"DOCKER_PASSWORD\"],\n",
    "    \"docker.io/nicholasjackson/hug:enc\"\n",
    "])"
   ]
  }
 ],
 "metadata": {
  "kernelspec": {
   "display_name": ".venv",
   "language": "python",
   "name": "python3"
  },
  "language_info": {
   "codemirror_mode": {
    "name": "ipython",
    "version": 3
   },
   "file_extension": ".py",
   "mimetype": "text/x-python",
   "name": "python",
   "nbconvert_exporter": "python",
   "pygments_lexer": "ipython3",
   "version": "3.11.2"
  }
 },
 "nbformat": 4,
 "nbformat_minor": 2
}
